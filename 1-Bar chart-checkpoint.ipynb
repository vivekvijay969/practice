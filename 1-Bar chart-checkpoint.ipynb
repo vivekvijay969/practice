{
 "cells": [
  {
   "cell_type": "code",
   "execution_count": 1,
   "id": "1c5ee2dd",
   "metadata": {},
   "outputs": [],
   "source": [
    "import matplotlib.pyplot as mt\n",
    "import numpy as np"
   ]
  },
  {
   "cell_type": "code",
   "execution_count": 9,
   "id": "c267f15b",
   "metadata": {},
   "outputs": [],
   "source": [
    "company=['GOOGL','AMZN','MSFT','FB']\n",
    "\n",
    "revenue=[90,136,89,27]"
   ]
  },
  {
   "cell_type": "code",
   "execution_count": 10,
   "id": "51e52402",
   "metadata": {},
   "outputs": [
    {
     "data": {
      "text/plain": [
       "array([0, 1, 2, 3])"
      ]
     },
     "execution_count": 10,
     "metadata": {},
     "output_type": "execute_result"
    }
   ],
   "source": [
    "xpos= np.arange(len(company))\n",
    "xpos"
   ]
  },
  {
   "cell_type": "code",
   "execution_count": 37,
   "id": "5480dc9d",
   "metadata": {},
   "outputs": [
    {
     "data": {
      "image/png": "[encoded data removed]",
      "text/plain": [
       "<Figure size 432x288 with 1 Axes>"
      ]
     },
     "metadata": {
      "needs_background": "light"
     },
     "output_type": "display_data"
    }
   ],
   "source": [
    "mt.xticks(xpos, company)\n",
    "mt.bar(xpos, revenue, label = \"Revenue\")\n",
    "mt.ylabel(\"Revenue(Bln)\")\n",
    "mt.title(\"US Technology Stocks\")\n",
    "mt.legend()\n",
    "mt.savefig(\"C:/Users/admin/Desktop/vvk/BarChart.png\", bbox_inches='tight', pad_inches=5, transparent= True)"
   ]
  },
  {
   "cell_type": "code",
   "execution_count": 27,
   "id": "f63177cb",
   "metadata": {},
   "outputs": [
    {
     "data": {
      "text/plain": [
       "<Figure size 432x288 with 0 Axes>"
      ]
     },
     "metadata": {},
     "output_type": "display_data"
    }
   ],
   "source": []
  }
 ],
 "metadata": {
  "kernelspec": {
   "display_name": "Python 3 (ipykernel)",
   "language": "python",
   "name": "python3"
  },
  "language_info": {
   "codemirror_mode": {
    "name": "ipython",
    "version": 3
   },
   "file_extension": ".py",
   "mimetype": "text/x-python",
   "name": "python",
   "nbconvert_exporter": "python",
   "pygments_lexer": "ipython3",
   "version": "3.10.4"
  }
 },
 "nbformat": 4,
 "nbformat_minor": 5
}
